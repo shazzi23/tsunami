{
 "cells": [
  {
   "cell_type": "markdown",
   "id": "ea78dc87-f75a-4b42-bb26-bd256f6baf98",
   "metadata": {},
   "source": [
    "# Table of Contents\n",
    "## This script contains the following:\n",
    "1. Import libraries\n",
    "2. Import Data\n",
    "3. Data Cleaning\n",
    "4. Data Prep for Regression Analysis\n",
    "5. Regression Analysis"
   ]
  },
  {
   "cell_type": "markdown",
   "id": "ebd26d6b-c71c-442b-9dc7-1efbdd20296b",
   "metadata": {
    "jp-MarkdownHeadingCollapsed": true
   },
   "source": [
    "# 1.0 Import libraries"
   ]
  },
  {
   "cell_type": "code",
   "execution_count": 105,
   "id": "60cb9859-7cf9-4c26-ada9-9be0b4322737",
   "metadata": {},
   "outputs": [],
   "source": [
    "import pandas as pd\n",
    "import numpy as np\n",
    "import seaborn as sns\n",
    "import matplotlib\n",
    "import matplotlib.pyplot as plt\n",
    "import os\n",
    "import sklearn\n",
    "from sklearn.model_selection import train_test_split \n",
    "from sklearn.linear_model import LinearRegression\n",
    "from sklearn.metrics import mean_squared_error, r2_score"
   ]
  },
  {
   "cell_type": "markdown",
   "id": "5302bdca-8450-413d-93bb-61ac9cdf8d1e",
   "metadata": {
    "jp-MarkdownHeadingCollapsed": true
   },
   "source": [
    "# 2.0 Import data"
   ]
  },
  {
   "cell_type": "code",
   "execution_count": 107,
   "id": "121b28b8-9846-4753-bcb7-bd0077567c9c",
   "metadata": {},
   "outputs": [],
   "source": [
    "# Define project folder path\n",
    "path = r'/Users/sharnti/Desktop/CareerFoundry/Data Immersion/Achievement 6/Project'"
   ]
  },
  {
   "cell_type": "code",
   "execution_count": 108,
   "id": "266e498d-1ac1-4410-bbca-be70499cd847",
   "metadata": {},
   "outputs": [],
   "source": [
    "# Import runups dataframe\n",
    "df = pd.read_pickle(os.path.join(path, '02 Data', 'Prepared Data', 'runups_clean.pkl'))"
   ]
  },
  {
   "cell_type": "code",
   "execution_count": 109,
   "id": "635a7956-7322-4800-8557-8c8f7728b973",
   "metadata": {},
   "outputs": [
    {
     "name": "stdout",
     "output_type": "stream",
     "text": [
      "<class 'pandas.core.frame.DataFrame'>\n",
      "Index: 17570 entries, 1 to 4582\n",
      "Data columns (total 11 columns):\n",
      " #   Column                Non-Null Count  Dtype         \n",
      "---  ------                --------------  -----         \n",
      " 0   date                  17570 non-null  datetime64[ns]\n",
      " 1   tsunami_event_id      17570 non-null  int64         \n",
      " 2   tsunami_valid         17570 non-null  int64         \n",
      " 3   earthquake_magnitude  16906 non-null  float64       \n",
      " 4   country               17570 non-null  object        \n",
      " 5   location              17570 non-null  object        \n",
      " 6   latitude              17570 non-null  float64       \n",
      " 7   longitude             17570 non-null  float64       \n",
      " 8   distance_source_km    17570 non-null  float64       \n",
      " 9   max_water_height_m    17570 non-null  float64       \n",
      " 10  flag_earthquake       17570 non-null  object        \n",
      "dtypes: datetime64[ns](1), float64(5), int64(2), object(3)\n",
      "memory usage: 1.6+ MB\n"
     ]
    }
   ],
   "source": [
    "# Display info about the dataframe\n",
    "df.info()"
   ]
  },
  {
   "cell_type": "markdown",
   "id": "a6a114e0-6280-41bc-bd43-22aa0860e8b3",
   "metadata": {
    "jp-MarkdownHeadingCollapsed": true
   },
   "source": [
    "# 3.0 Data cleaning"
   ]
  },
  {
   "cell_type": "code",
   "execution_count": 111,
   "id": "1c855957-e674-4226-af02-827c7c21b6b4",
   "metadata": {},
   "outputs": [
    {
     "data": {
      "text/html": [
       "<div>\n",
       "<style scoped>\n",
       "    .dataframe tbody tr th:only-of-type {\n",
       "        vertical-align: middle;\n",
       "    }\n",
       "\n",
       "    .dataframe tbody tr th {\n",
       "        vertical-align: top;\n",
       "    }\n",
       "\n",
       "    .dataframe thead th {\n",
       "        text-align: right;\n",
       "    }\n",
       "</style>\n",
       "<table border=\"1\" class=\"dataframe\">\n",
       "  <thead>\n",
       "    <tr style=\"text-align: right;\">\n",
       "      <th></th>\n",
       "      <th>date</th>\n",
       "      <th>tsunami_event_id</th>\n",
       "      <th>tsunami_valid</th>\n",
       "      <th>earthquake_magnitude</th>\n",
       "      <th>latitude</th>\n",
       "      <th>longitude</th>\n",
       "      <th>distance_source_km</th>\n",
       "      <th>max_water_height_m</th>\n",
       "    </tr>\n",
       "  </thead>\n",
       "  <tbody>\n",
       "    <tr>\n",
       "      <th>count</th>\n",
       "      <td>17570</td>\n",
       "      <td>17570.000000</td>\n",
       "      <td>17570.0</td>\n",
       "      <td>16906.000000</td>\n",
       "      <td>17570.000000</td>\n",
       "      <td>17570.000000</td>\n",
       "      <td>17570.000000</td>\n",
       "      <td>17570.000000</td>\n",
       "    </tr>\n",
       "    <tr>\n",
       "      <th>mean</th>\n",
       "      <td>2009-10-25 23:48:31.553784832</td>\n",
       "      <td>4507.532157</td>\n",
       "      <td>4.0</td>\n",
       "      <td>8.458961</td>\n",
       "      <td>15.621313</td>\n",
       "      <td>56.601405</td>\n",
       "      <td>1867.800364</td>\n",
       "      <td>4.779530</td>\n",
       "    </tr>\n",
       "    <tr>\n",
       "      <th>min</th>\n",
       "      <td>1985-03-03 00:00:00</td>\n",
       "      <td>2158.000000</td>\n",
       "      <td>4.0</td>\n",
       "      <td>3.700000</td>\n",
       "      <td>-77.850000</td>\n",
       "      <td>-179.797800</td>\n",
       "      <td>0.000000</td>\n",
       "      <td>0.010000</td>\n",
       "    </tr>\n",
       "    <tr>\n",
       "      <th>25%</th>\n",
       "      <td>2005-03-28 00:00:00</td>\n",
       "      <td>2749.000000</td>\n",
       "      <td>4.0</td>\n",
       "      <td>7.900000</td>\n",
       "      <td>-6.679972</td>\n",
       "      <td>-71.331216</td>\n",
       "      <td>99.817089</td>\n",
       "      <td>0.472500</td>\n",
       "    </tr>\n",
       "    <tr>\n",
       "      <th>50%</th>\n",
       "      <td>2011-03-11 00:00:00</td>\n",
       "      <td>5413.000000</td>\n",
       "      <td>4.0</td>\n",
       "      <td>8.800000</td>\n",
       "      <td>24.984190</td>\n",
       "      <td>119.874503</td>\n",
       "      <td>189.017878</td>\n",
       "      <td>2.640000</td>\n",
       "    </tr>\n",
       "    <tr>\n",
       "      <th>75%</th>\n",
       "      <td>2011-03-11 00:00:00</td>\n",
       "      <td>5413.000000</td>\n",
       "      <td>4.0</td>\n",
       "      <td>9.100000</td>\n",
       "      <td>38.723556</td>\n",
       "      <td>141.469660</td>\n",
       "      <td>1648.408622</td>\n",
       "      <td>6.200000</td>\n",
       "    </tr>\n",
       "    <tr>\n",
       "      <th>max</th>\n",
       "      <td>2024-12-17 00:00:00</td>\n",
       "      <td>5942.000000</td>\n",
       "      <td>4.0</td>\n",
       "      <td>9.100000</td>\n",
       "      <td>72.850000</td>\n",
       "      <td>179.302000</td>\n",
       "      <td>19265.830397</td>\n",
       "      <td>200.000000</td>\n",
       "    </tr>\n",
       "    <tr>\n",
       "      <th>std</th>\n",
       "      <td>NaN</td>\n",
       "      <td>1384.534342</td>\n",
       "      <td>0.0</td>\n",
       "      <td>0.728547</td>\n",
       "      <td>27.490680</td>\n",
       "      <td>113.772116</td>\n",
       "      <td>3588.056345</td>\n",
       "      <td>6.718171</td>\n",
       "    </tr>\n",
       "  </tbody>\n",
       "</table>\n",
       "</div>"
      ],
      "text/plain": [
       "                                date  tsunami_event_id  tsunami_valid  \\\n",
       "count                          17570      17570.000000        17570.0   \n",
       "mean   2009-10-25 23:48:31.553784832       4507.532157            4.0   \n",
       "min              1985-03-03 00:00:00       2158.000000            4.0   \n",
       "25%              2005-03-28 00:00:00       2749.000000            4.0   \n",
       "50%              2011-03-11 00:00:00       5413.000000            4.0   \n",
       "75%              2011-03-11 00:00:00       5413.000000            4.0   \n",
       "max              2024-12-17 00:00:00       5942.000000            4.0   \n",
       "std                              NaN       1384.534342            0.0   \n",
       "\n",
       "       earthquake_magnitude      latitude     longitude  distance_source_km  \\\n",
       "count          16906.000000  17570.000000  17570.000000        17570.000000   \n",
       "mean               8.458961     15.621313     56.601405         1867.800364   \n",
       "min                3.700000    -77.850000   -179.797800            0.000000   \n",
       "25%                7.900000     -6.679972    -71.331216           99.817089   \n",
       "50%                8.800000     24.984190    119.874503          189.017878   \n",
       "75%                9.100000     38.723556    141.469660         1648.408622   \n",
       "max                9.100000     72.850000    179.302000        19265.830397   \n",
       "std                0.728547     27.490680    113.772116         3588.056345   \n",
       "\n",
       "       max_water_height_m  \n",
       "count        17570.000000  \n",
       "mean             4.779530  \n",
       "min              0.010000  \n",
       "25%              0.472500  \n",
       "50%              2.640000  \n",
       "75%              6.200000  \n",
       "max            200.000000  \n",
       "std              6.718171  "
      ]
     },
     "execution_count": 111,
     "metadata": {},
     "output_type": "execute_result"
    }
   ],
   "source": [
    "# Calculate descriptive statistics\n",
    "df.describe()"
   ]
  },
  {
   "cell_type": "code",
   "execution_count": 112,
   "id": "10cdac4f-2f09-462b-aac4-de4b2bdc8c8d",
   "metadata": {},
   "outputs": [
    {
     "data": {
      "text/plain": [
       "Index(['date', 'tsunami_event_id', 'tsunami_valid', 'earthquake_magnitude',\n",
       "       'country', 'location', 'latitude', 'longitude', 'distance_source_km',\n",
       "       'max_water_height_m', 'flag_earthquake'],\n",
       "      dtype='object')"
      ]
     },
     "execution_count": 112,
     "metadata": {},
     "output_type": "execute_result"
    }
   ],
   "source": [
    "df.columns"
   ]
  },
  {
   "cell_type": "code",
   "execution_count": 113,
   "id": "abf3e280-722c-4fc9-a714-51afd5d0d955",
   "metadata": {},
   "outputs": [
    {
     "data": {
      "text/html": [
       "<div>\n",
       "<style scoped>\n",
       "    .dataframe tbody tr th:only-of-type {\n",
       "        vertical-align: middle;\n",
       "    }\n",
       "\n",
       "    .dataframe tbody tr th {\n",
       "        vertical-align: top;\n",
       "    }\n",
       "\n",
       "    .dataframe thead th {\n",
       "        text-align: right;\n",
       "    }\n",
       "</style>\n",
       "<table border=\"1\" class=\"dataframe\">\n",
       "  <thead>\n",
       "    <tr style=\"text-align: right;\">\n",
       "      <th></th>\n",
       "      <th>date</th>\n",
       "      <th>tsunami_event_id</th>\n",
       "      <th>tsunami_valid</th>\n",
       "      <th>earthquake_magnitude</th>\n",
       "      <th>country</th>\n",
       "      <th>location</th>\n",
       "      <th>latitude</th>\n",
       "      <th>longitude</th>\n",
       "      <th>distance_source_km</th>\n",
       "      <th>max_water_height_m</th>\n",
       "      <th>flag_earthquake</th>\n",
       "    </tr>\n",
       "  </thead>\n",
       "  <tbody>\n",
       "    <tr>\n",
       "      <th>3608</th>\n",
       "      <td>2004-12-26</td>\n",
       "      <td>2439</td>\n",
       "      <td>4</td>\n",
       "      <td>9.1</td>\n",
       "      <td>SRI LANKA</td>\n",
       "      <td>WELIGAMA TOWN</td>\n",
       "      <td>5.963713</td>\n",
       "      <td>80.456269</td>\n",
       "      <td>1747.620137</td>\n",
       "      <td>8.00</td>\n",
       "      <td>Yes</td>\n",
       "    </tr>\n",
       "    <tr>\n",
       "      <th>537</th>\n",
       "      <td>2015-09-16</td>\n",
       "      <td>5590</td>\n",
       "      <td>4</td>\n",
       "      <td>8.3</td>\n",
       "      <td>CHILE</td>\n",
       "      <td>COQUIMBO (WM58)</td>\n",
       "      <td>-29.952637</td>\n",
       "      <td>-71.335763</td>\n",
       "      <td>182.537230</td>\n",
       "      <td>3.50</td>\n",
       "      <td>Yes</td>\n",
       "    </tr>\n",
       "    <tr>\n",
       "      <th>934</th>\n",
       "      <td>1994-09-16</td>\n",
       "      <td>5804</td>\n",
       "      <td>4</td>\n",
       "      <td>6.7</td>\n",
       "      <td>TAIWAN</td>\n",
       "      <td>PENG-HU</td>\n",
       "      <td>23.570000</td>\n",
       "      <td>119.550000</td>\n",
       "      <td>143.907532</td>\n",
       "      <td>0.19</td>\n",
       "      <td>Yes</td>\n",
       "    </tr>\n",
       "    <tr>\n",
       "      <th>4589</th>\n",
       "      <td>2011-03-11</td>\n",
       "      <td>5413</td>\n",
       "      <td>4</td>\n",
       "      <td>9.1</td>\n",
       "      <td>JAPAN</td>\n",
       "      <td>IWATE PREFECTURE, TOHOKU REGION</td>\n",
       "      <td>39.812944</td>\n",
       "      <td>141.964083</td>\n",
       "      <td>171.976128</td>\n",
       "      <td>10.14</td>\n",
       "      <td>Yes</td>\n",
       "    </tr>\n",
       "    <tr>\n",
       "      <th>6198</th>\n",
       "      <td>2011-03-11</td>\n",
       "      <td>5413</td>\n",
       "      <td>4</td>\n",
       "      <td>9.1</td>\n",
       "      <td>JAPAN</td>\n",
       "      <td>HOKKAIDO PREFECTURE</td>\n",
       "      <td>42.063381</td>\n",
       "      <td>143.065179</td>\n",
       "      <td>422.341949</td>\n",
       "      <td>5.10</td>\n",
       "      <td>Yes</td>\n",
       "    </tr>\n",
       "    <tr>\n",
       "      <th>2750</th>\n",
       "      <td>2004-12-26</td>\n",
       "      <td>2439</td>\n",
       "      <td>4</td>\n",
       "      <td>9.1</td>\n",
       "      <td>MALDIVES</td>\n",
       "      <td>HINNAVARU, LHAVIYANI</td>\n",
       "      <td>5.494630</td>\n",
       "      <td>73.412830</td>\n",
       "      <td>2516.580441</td>\n",
       "      <td>1.13</td>\n",
       "      <td>Yes</td>\n",
       "    </tr>\n",
       "    <tr>\n",
       "      <th>2275</th>\n",
       "      <td>2018-12-22</td>\n",
       "      <td>5699</td>\n",
       "      <td>4</td>\n",
       "      <td>NaN</td>\n",
       "      <td>INDONESIA</td>\n",
       "      <td>RAKATA</td>\n",
       "      <td>-6.141834</td>\n",
       "      <td>105.420852</td>\n",
       "      <td>4.411530</td>\n",
       "      <td>39.71</td>\n",
       "      <td>No</td>\n",
       "    </tr>\n",
       "    <tr>\n",
       "      <th>5292</th>\n",
       "      <td>2011-03-11</td>\n",
       "      <td>5413</td>\n",
       "      <td>4</td>\n",
       "      <td>9.1</td>\n",
       "      <td>JAPAN</td>\n",
       "      <td>IWATE PREFECTURE, TOHOKU REGION</td>\n",
       "      <td>38.959028</td>\n",
       "      <td>141.697306</td>\n",
       "      <td>94.141819</td>\n",
       "      <td>15.02</td>\n",
       "      <td>Yes</td>\n",
       "    </tr>\n",
       "    <tr>\n",
       "      <th>3357</th>\n",
       "      <td>2011-03-11</td>\n",
       "      <td>5413</td>\n",
       "      <td>4</td>\n",
       "      <td>9.1</td>\n",
       "      <td>JAPAN</td>\n",
       "      <td>HAKODATE</td>\n",
       "      <td>41.718700</td>\n",
       "      <td>140.724700</td>\n",
       "      <td>405.134116</td>\n",
       "      <td>1.75</td>\n",
       "      <td>Yes</td>\n",
       "    </tr>\n",
       "    <tr>\n",
       "      <th>7157</th>\n",
       "      <td>2011-03-11</td>\n",
       "      <td>5413</td>\n",
       "      <td>4</td>\n",
       "      <td>9.1</td>\n",
       "      <td>JAPAN</td>\n",
       "      <td>MIYAGI PREFECTURE, TOHOKU REGION</td>\n",
       "      <td>38.431944</td>\n",
       "      <td>141.289194</td>\n",
       "      <td>95.896794</td>\n",
       "      <td>2.72</td>\n",
       "      <td>Yes</td>\n",
       "    </tr>\n",
       "  </tbody>\n",
       "</table>\n",
       "</div>"
      ],
      "text/plain": [
       "           date  tsunami_event_id  tsunami_valid  earthquake_magnitude  \\\n",
       "3608 2004-12-26              2439              4                   9.1   \n",
       "537  2015-09-16              5590              4                   8.3   \n",
       "934  1994-09-16              5804              4                   6.7   \n",
       "4589 2011-03-11              5413              4                   9.1   \n",
       "6198 2011-03-11              5413              4                   9.1   \n",
       "2750 2004-12-26              2439              4                   9.1   \n",
       "2275 2018-12-22              5699              4                   NaN   \n",
       "5292 2011-03-11              5413              4                   9.1   \n",
       "3357 2011-03-11              5413              4                   9.1   \n",
       "7157 2011-03-11              5413              4                   9.1   \n",
       "\n",
       "        country                          location   latitude   longitude  \\\n",
       "3608  SRI LANKA                     WELIGAMA TOWN   5.963713   80.456269   \n",
       "537       CHILE                   COQUIMBO (WM58) -29.952637  -71.335763   \n",
       "934      TAIWAN                           PENG-HU  23.570000  119.550000   \n",
       "4589      JAPAN   IWATE PREFECTURE, TOHOKU REGION  39.812944  141.964083   \n",
       "6198      JAPAN               HOKKAIDO PREFECTURE  42.063381  143.065179   \n",
       "2750   MALDIVES              HINNAVARU, LHAVIYANI   5.494630   73.412830   \n",
       "2275  INDONESIA                            RAKATA  -6.141834  105.420852   \n",
       "5292      JAPAN   IWATE PREFECTURE, TOHOKU REGION  38.959028  141.697306   \n",
       "3357      JAPAN                          HAKODATE  41.718700  140.724700   \n",
       "7157      JAPAN  MIYAGI PREFECTURE, TOHOKU REGION  38.431944  141.289194   \n",
       "\n",
       "      distance_source_km  max_water_height_m flag_earthquake  \n",
       "3608         1747.620137                8.00             Yes  \n",
       "537           182.537230                3.50             Yes  \n",
       "934           143.907532                0.19             Yes  \n",
       "4589          171.976128               10.14             Yes  \n",
       "6198          422.341949                5.10             Yes  \n",
       "2750         2516.580441                1.13             Yes  \n",
       "2275            4.411530               39.71              No  \n",
       "5292           94.141819               15.02             Yes  \n",
       "3357          405.134116                1.75             Yes  \n",
       "7157           95.896794                2.72             Yes  "
      ]
     },
     "execution_count": 113,
     "metadata": {},
     "output_type": "execute_result"
    }
   ],
   "source": [
    "df.sample(10)"
   ]
  },
  {
   "cell_type": "markdown",
   "id": "0b56a45b-996a-4cf4-a667-14f2cd99ba4f",
   "metadata": {},
   "source": [
    "## Missing values check"
   ]
  },
  {
   "cell_type": "code",
   "execution_count": 115,
   "id": "a34cc4e9-5ffb-4115-bac6-c09637d1f9b2",
   "metadata": {},
   "outputs": [
    {
     "data": {
      "text/plain": [
       "date                      0\n",
       "tsunami_event_id          0\n",
       "tsunami_valid             0\n",
       "earthquake_magnitude    664\n",
       "country                   0\n",
       "location                  0\n",
       "latitude                  0\n",
       "longitude                 0\n",
       "distance_source_km        0\n",
       "max_water_height_m        0\n",
       "flag_earthquake           0\n",
       "dtype: int64"
      ]
     },
     "execution_count": 115,
     "metadata": {},
     "output_type": "execute_result"
    }
   ],
   "source": [
    "# Check for missing values\n",
    "df.isnull().sum()"
   ]
  },
  {
   "cell_type": "code",
   "execution_count": 116,
   "id": "ad9ea661-8207-486d-8e96-51394c14198b",
   "metadata": {},
   "outputs": [
    {
     "data": {
      "text/plain": [
       "flag_earthquake\n",
       "Yes    16906\n",
       "No       664\n",
       "Name: count, dtype: int64"
      ]
     },
     "execution_count": 116,
     "metadata": {},
     "output_type": "execute_result"
    }
   ],
   "source": [
    "# Check frequency for flag_earthquake\n",
    "df['flag_earthquake'].value_counts()"
   ]
  },
  {
   "cell_type": "code",
   "execution_count": 117,
   "id": "20a7670b-5754-4427-a5ad-3e115511cd99",
   "metadata": {},
   "outputs": [
    {
     "data": {
      "text/plain": [
       "flag_earthquake\n",
       "Yes    16906\n",
       "Name: count, dtype: int64"
      ]
     },
     "execution_count": 117,
     "metadata": {},
     "output_type": "execute_result"
    }
   ],
   "source": [
    "# Drop any runups's that aren't associated with an earthquake\n",
    "df = df[df['flag_earthquake']=='Yes']\n",
    "\n",
    "df['flag_earthquake'].value_counts() # Check frequency for flag_earthquake"
   ]
  },
  {
   "cell_type": "code",
   "execution_count": 118,
   "id": "f78172ac-8529-45db-8eea-6ab3d91e4a51",
   "metadata": {},
   "outputs": [
    {
     "data": {
      "text/plain": [
       "date                    0\n",
       "tsunami_event_id        0\n",
       "tsunami_valid           0\n",
       "earthquake_magnitude    0\n",
       "country                 0\n",
       "location                0\n",
       "latitude                0\n",
       "longitude               0\n",
       "distance_source_km      0\n",
       "max_water_height_m      0\n",
       "flag_earthquake         0\n",
       "dtype: int64"
      ]
     },
     "execution_count": 118,
     "metadata": {},
     "output_type": "execute_result"
    }
   ],
   "source": [
    "# Check for missing values\n",
    "df.isnull().sum()"
   ]
  },
  {
   "cell_type": "markdown",
   "id": "28f547c2-d530-49a2-8fd6-b596bce0e90a",
   "metadata": {},
   "source": [
    "No missing values"
   ]
  },
  {
   "cell_type": "markdown",
   "id": "e059106a-ba00-4e56-bab4-29eb6c6b902a",
   "metadata": {},
   "source": [
    "## Duplicates check"
   ]
  },
  {
   "cell_type": "code",
   "execution_count": 121,
   "id": "2af5f37f-a5e8-4e2f-a63d-8fd8b8f76798",
   "metadata": {},
   "outputs": [],
   "source": [
    "dups = df.duplicated()"
   ]
  },
  {
   "cell_type": "code",
   "execution_count": 122,
   "id": "37f22021-7abc-4ce3-9847-0604dfc27227",
   "metadata": {},
   "outputs": [
    {
     "data": {
      "text/plain": [
       "(16906,)"
      ]
     },
     "execution_count": 122,
     "metadata": {},
     "output_type": "execute_result"
    }
   ],
   "source": [
    "dups.shape # No dups"
   ]
  },
  {
   "cell_type": "markdown",
   "id": "7532dd84-3c43-4e75-88ad-8d9413e70169",
   "metadata": {},
   "source": [
    "No duplicates"
   ]
  },
  {
   "cell_type": "markdown",
   "id": "23de7a40-0a1a-4386-a62c-0137a399b77e",
   "metadata": {},
   "source": [
    "## Extreme values check"
   ]
  },
  {
   "cell_type": "code",
   "execution_count": 125,
   "id": "e22ca8a1-27bf-4766-9394-63d307f41101",
   "metadata": {},
   "outputs": [
    {
     "data": {
      "text/plain": [
       "<Axes: xlabel='max_water_height_m', ylabel='Count'>"
      ]
     },
     "execution_count": 125,
     "metadata": {},
     "output_type": "execute_result"
    },
    {
     "data": {
      "image/png": "[encoded data removed]",
      "text/plain": [
       "<Figure size 640x480 with 1 Axes>"
      ]
     },
     "metadata": {},
     "output_type": "display_data"
    }
   ],
   "source": [
    "sns.histplot(df['max_water_height_m'], bins=25) # Shows extreme values\n",
    "\n",
    "# Some of the outliers in the high values may need to be removed, but let's try without doing so first."
   ]
  },
  {
   "cell_type": "code",
   "execution_count": 126,
   "id": "30f9212e-5be7-4638-b38f-758ab25331ed",
   "metadata": {},
   "outputs": [
    {
     "data": {
      "text/plain": [
       "4.586952561220868"
      ]
     },
     "execution_count": 126,
     "metadata": {},
     "output_type": "execute_result"
    }
   ],
   "source": [
    "df['max_water_height_m'].mean() # Check the mean"
   ]
  },
  {
   "cell_type": "code",
   "execution_count": 127,
   "id": "75fda28b-e692-4d98-966d-5e996d268ec7",
   "metadata": {},
   "outputs": [
    {
     "data": {
      "text/plain": [
       "2.6"
      ]
     },
     "execution_count": 127,
     "metadata": {},
     "output_type": "execute_result"
    }
   ],
   "source": [
    "df['max_water_height_m'].median() # Check the median"
   ]
  },
  {
   "cell_type": "code",
   "execution_count": 128,
   "id": "40382044-62d7-4dbb-8af4-3704bfc51414",
   "metadata": {},
   "outputs": [
    {
     "data": {
      "text/plain": [
       "50.9"
      ]
     },
     "execution_count": 128,
     "metadata": {},
     "output_type": "execute_result"
    }
   ],
   "source": [
    "df['max_water_height_m'].max() # Check the max"
   ]
  },
  {
   "cell_type": "code",
   "execution_count": 129,
   "id": "8c36f7ef-d74d-435b-8b42-6e6d6df00d0a",
   "metadata": {},
   "outputs": [
    {
     "data": {
      "text/plain": [
       "<Axes: ylabel='max_water_height_m'>"
      ]
     },
     "execution_count": 129,
     "metadata": {},
     "output_type": "execute_result"
    },
    {
     "data": {
      "image/png": "[encoded data removed]",
      "text/plain": [
       "<Figure size 640x480 with 1 Axes>"
      ]
     },
     "metadata": {},
     "output_type": "display_data"
    }
   ],
   "source": [
    "sns.boxplot(df['max_water_height_m'])"
   ]
  },
  {
   "cell_type": "code",
   "execution_count": 130,
   "id": "13a8d783-8be0-40a0-8f27-915873043798",
   "metadata": {},
   "outputs": [
    {
     "data": {
      "text/plain": [
       "<Axes: xlabel='max_water_height_m', ylabel='Density'>"
      ]
     },
     "execution_count": 130,
     "metadata": {},
     "output_type": "execute_result"
    },
    {
     "data": {
      "image/png": "[encoded data removed]",
      "text/plain": [
       "<Figure size 640x480 with 1 Axes>"
      ]
     },
     "metadata": {},
     "output_type": "display_data"
    }
   ],
   "source": [
    "sns.kdeplot(df['max_water_height_m'])"
   ]
  },
  {
   "cell_type": "code",
   "execution_count": 131,
   "id": "0a1ce359-6b58-4cb1-8868-cb866e7eed23",
   "metadata": {},
   "outputs": [],
   "source": [
    "upper_bound = df['max_water_height_m'].quantile(0.99)  # Top 1% as outliers\n",
    "lower_bound = df['max_water_height_m'].quantile(0.01)  # Bottom 1% as outliers"
   ]
  },
  {
   "cell_type": "code",
   "execution_count": 132,
   "id": "eb36063d-460f-4d9f-a049-d5c7c257e4c6",
   "metadata": {},
   "outputs": [
    {
     "data": {
      "text/plain": [
       "26.528500000000022"
      ]
     },
     "execution_count": 132,
     "metadata": {},
     "output_type": "execute_result"
    }
   ],
   "source": [
    "upper_bound"
   ]
  },
  {
   "cell_type": "markdown",
   "id": "154a7c06-1f35-40e5-aace-5bcd4f489481",
   "metadata": {},
   "source": [
    "**Note:** The data is right skewed, making it difficult to identify outliers. Would could use the extreme quantile method to identify and remove outliers, but as we don't want force the model to peform better, we will leave the extreme values in the dataset for the time being."
   ]
  },
  {
   "cell_type": "markdown",
   "id": "bf31d676-96fd-4f29-ac55-1cb665c1ec99",
   "metadata": {},
   "source": [
    "## Select variables of interest"
   ]
  },
  {
   "cell_type": "code",
   "execution_count": 158,
   "id": "2ca4fe83-d31e-4e8e-b82c-d765947214b4",
   "metadata": {},
   "outputs": [],
   "source": [
    "runups = df[['earthquake_magnitude', 'latitude', 'distance_source_km', 'max_water_height_m']]"
   ]
  },
  {
   "cell_type": "code",
   "execution_count": 160,
   "id": "7d877392-abe5-4064-bcc3-fa5eab6bb1a3",
   "metadata": {},
   "outputs": [
    {
     "data": {
      "text/html": [
       "<div>\n",
       "<style scoped>\n",
       "    .dataframe tbody tr th:only-of-type {\n",
       "        vertical-align: middle;\n",
       "    }\n",
       "\n",
       "    .dataframe tbody tr th {\n",
       "        vertical-align: top;\n",
       "    }\n",
       "\n",
       "    .dataframe thead th {\n",
       "        text-align: right;\n",
       "    }\n",
       "</style>\n",
       "<table border=\"1\" class=\"dataframe\">\n",
       "  <thead>\n",
       "    <tr style=\"text-align: right;\">\n",
       "      <th></th>\n",
       "      <th>earthquake_magnitude</th>\n",
       "      <th>latitude</th>\n",
       "      <th>distance_source_km</th>\n",
       "      <th>max_water_height_m</th>\n",
       "    </tr>\n",
       "  </thead>\n",
       "  <tbody>\n",
       "    <tr>\n",
       "      <th>1</th>\n",
       "      <td>8.0</td>\n",
       "      <td>51.8630</td>\n",
       "      <td>13805.592696</td>\n",
       "      <td>0.05</td>\n",
       "    </tr>\n",
       "    <tr>\n",
       "      <th>3</th>\n",
       "      <td>8.0</td>\n",
       "      <td>55.3370</td>\n",
       "      <td>12889.004338</td>\n",
       "      <td>0.08</td>\n",
       "    </tr>\n",
       "    <tr>\n",
       "      <th>4</th>\n",
       "      <td>8.0</td>\n",
       "      <td>60.1190</td>\n",
       "      <td>12504.850389</td>\n",
       "      <td>0.03</td>\n",
       "    </tr>\n",
       "    <tr>\n",
       "      <th>6</th>\n",
       "      <td>8.0</td>\n",
       "      <td>-2.1833</td>\n",
       "      <td>3530.667449</td>\n",
       "      <td>0.20</td>\n",
       "    </tr>\n",
       "    <tr>\n",
       "      <th>7</th>\n",
       "      <td>8.0</td>\n",
       "      <td>19.7303</td>\n",
       "      <td>10596.671496</td>\n",
       "      <td>0.24</td>\n",
       "    </tr>\n",
       "  </tbody>\n",
       "</table>\n",
       "</div>"
      ],
      "text/plain": [
       "   earthquake_magnitude  latitude  distance_source_km  max_water_height_m\n",
       "1                   8.0   51.8630        13805.592696                0.05\n",
       "3                   8.0   55.3370        12889.004338                0.08\n",
       "4                   8.0   60.1190        12504.850389                0.03\n",
       "6                   8.0   -2.1833         3530.667449                0.20\n",
       "7                   8.0   19.7303        10596.671496                0.24"
      ]
     },
     "execution_count": 160,
     "metadata": {},
     "output_type": "execute_result"
    }
   ],
   "source": [
    "runups.head()"
   ]
  },
  {
   "cell_type": "code",
   "execution_count": 164,
   "id": "71dd3e81-2147-4575-8e5a-59f1446630f5",
   "metadata": {},
   "outputs": [
    {
     "data": {
      "text/plain": [
       "(16906, 4)"
      ]
     },
     "execution_count": 164,
     "metadata": {},
     "output_type": "execute_result"
    }
   ],
   "source": [
    "runups.shape"
   ]
  },
  {
   "cell_type": "code",
   "execution_count": 186,
   "id": "6c41760d-f4b1-49a2-bb32-1905c0e27250",
   "metadata": {},
   "outputs": [
    {
     "data": {
      "text/html": [
       "<div>\n",
       "<style scoped>\n",
       "    .dataframe tbody tr th:only-of-type {\n",
       "        vertical-align: middle;\n",
       "    }\n",
       "\n",
       "    .dataframe tbody tr th {\n",
       "        vertical-align: top;\n",
       "    }\n",
       "\n",
       "    .dataframe thead th {\n",
       "        text-align: right;\n",
       "    }\n",
       "</style>\n",
       "<table border=\"1\" class=\"dataframe\">\n",
       "  <thead>\n",
       "    <tr style=\"text-align: right;\">\n",
       "      <th></th>\n",
       "      <th>tsunami_event_id</th>\n",
       "      <th>earthquake_magnitude</th>\n",
       "      <th>max_water_height</th>\n",
       "      <th>min_distance</th>\n",
       "      <th>max_distance</th>\n",
       "      <th>runup_count</th>\n",
       "    </tr>\n",
       "  </thead>\n",
       "  <tbody>\n",
       "    <tr>\n",
       "      <th>0</th>\n",
       "      <td>2158</td>\n",
       "      <td>8.0</td>\n",
       "      <td>3.50</td>\n",
       "      <td>6.872275</td>\n",
       "      <td>18671.336544</td>\n",
       "      <td>61</td>\n",
       "    </tr>\n",
       "    <tr>\n",
       "      <th>1</th>\n",
       "      <td>2159</td>\n",
       "      <td>6.4</td>\n",
       "      <td>0.12</td>\n",
       "      <td>136.591891</td>\n",
       "      <td>136.591891</td>\n",
       "      <td>1</td>\n",
       "    </tr>\n",
       "    <tr>\n",
       "      <th>2</th>\n",
       "      <td>2161</td>\n",
       "      <td>7.3</td>\n",
       "      <td>1.30</td>\n",
       "      <td>75.897753</td>\n",
       "      <td>77.306166</td>\n",
       "      <td>2</td>\n",
       "    </tr>\n",
       "    <tr>\n",
       "      <th>3</th>\n",
       "      <td>2162</td>\n",
       "      <td>8.0</td>\n",
       "      <td>3.00</td>\n",
       "      <td>30.257031</td>\n",
       "      <td>8381.201316</td>\n",
       "      <td>19</td>\n",
       "    </tr>\n",
       "    <tr>\n",
       "      <th>4</th>\n",
       "      <td>2163</td>\n",
       "      <td>7.6</td>\n",
       "      <td>1.20</td>\n",
       "      <td>14.950854</td>\n",
       "      <td>2103.880534</td>\n",
       "      <td>3</td>\n",
       "    </tr>\n",
       "  </tbody>\n",
       "</table>\n",
       "</div>"
      ],
      "text/plain": [
       "   tsunami_event_id  earthquake_magnitude  max_water_height  min_distance  \\\n",
       "0              2158                   8.0              3.50      6.872275   \n",
       "1              2159                   6.4              0.12    136.591891   \n",
       "2              2161                   7.3              1.30     75.897753   \n",
       "3              2162                   8.0              3.00     30.257031   \n",
       "4              2163                   7.6              1.20     14.950854   \n",
       "\n",
       "   max_distance  runup_count  \n",
       "0  18671.336544           61  \n",
       "1    136.591891            1  \n",
       "2     77.306166            2  \n",
       "3   8381.201316           19  \n",
       "4   2103.880534            3  "
      ]
     },
     "execution_count": 186,
     "metadata": {},
     "output_type": "execute_result"
    }
   ],
   "source": [
    "# Group by tsunami_event_id and perform the aggregations\n",
    "tsunami = df.groupby('tsunami_event_id').agg(\n",
    "    earthquake_magnitude=('earthquake_magnitude', 'max'),  # max earthquake_magnitude\n",
    "    max_water_height=('max_water_height_m', 'max'),  # Max water height for each tsunami\n",
    "    min_distance=('distance_source_km', 'min'),  # Min distance recorded per tsunami\n",
    "    max_distance=('distance_source_km', 'max'), # Max distance recorded per tsunami\n",
    "    runup_count=('tsunami_event_id', 'size')  # Count of records for each tsunami event\n",
    ").reset_index()\n",
    "\n",
    "# Display the aggregated dataframe\n",
    "tsunami.head()"
   ]
  },
  {
   "cell_type": "code",
   "execution_count": 188,
   "id": "57d23c3d-6719-40b2-a6a4-461d1646d96a",
   "metadata": {},
   "outputs": [
    {
     "data": {
      "text/plain": [
       "(342, 6)"
      ]
     },
     "execution_count": 188,
     "metadata": {},
     "output_type": "execute_result"
    }
   ],
   "source": [
    "tsunami.shape"
   ]
  },
  {
   "cell_type": "markdown",
   "id": "7813a98e-efaf-4403-b211-d80c332d016f",
   "metadata": {
    "jp-MarkdownHeadingCollapsed": true
   },
   "source": [
    "# 4.0 Data prep for regression analysis"
   ]
  },
  {
   "cell_type": "code",
   "execution_count": 169,
   "id": "761d3396-a284-4081-bb3a-30fa1b247b80",
   "metadata": {},
   "outputs": [
    {
     "data": {
      "image/png": "[encoded data removed]",
      "text/plain": [
       "<Figure size 640x480 with 1 Axes>"
      ]
     },
     "metadata": {},
     "output_type": "display_data"
    }
   ],
   "source": [
    "# Create a scatterplot using matplotlib for another look at how the chosen variables plot against each other.\n",
    "\n",
    "df.plot(x = 'latitude', y='longitude',style='o') # The style option creates a scatterplot; without it, we only have lines.\n",
    "plt.title('Latitude vs Longitude')  \n",
    "plt.xlabel('Latitude')  \n",
    "plt.ylabel('Longitude')  \n",
    "plt.show()"
   ]
  },
  {
   "cell_type": "markdown",
   "id": "3bd7faa4-3fd3-4be0-806e-25f781813570",
   "metadata": {},
   "source": [
    "**Hypothesis:** Longitude increase as latitude increases. (i.e. runups are more likely to occur in north-east or south-west)."
   ]
  },
  {
   "cell_type": "code",
   "execution_count": 177,
   "id": "90139d1e-c673-451d-a204-627a6619bbdb",
   "metadata": {},
   "outputs": [],
   "source": [
    "# Reshape the variables into NumPy arrays and put them into separate objects.\n",
    "\n",
    "X = df['latitude'].values.reshape(-1,1)\n",
    "y = df['longitude'].values.reshape(-1,1)"
   ]
  },
  {
   "cell_type": "code",
   "execution_count": 179,
   "id": "8eabad8d-34ff-4960-b737-9aeb6d5eb4eb",
   "metadata": {},
   "outputs": [
    {
     "data": {
      "text/plain": [
       "array([[ 51.863   ],\n",
       "       [ 55.337   ],\n",
       "       [ 60.119   ],\n",
       "       ...,\n",
       "       [ 39.351667],\n",
       "       [-19.53256 ],\n",
       "       [-17.7553  ]])"
      ]
     },
     "execution_count": 179,
     "metadata": {},
     "output_type": "execute_result"
    }
   ],
   "source": [
    "X"
   ]
  },
  {
   "cell_type": "code",
   "execution_count": 181,
   "id": "d6cf017e-cdeb-4af0-85ce-bb68b8ea19b9",
   "metadata": {},
   "outputs": [
    {
     "data": {
      "text/plain": [
       "array([[-176.632   ],\n",
       "       [-160.502   ],\n",
       "       [-149.427   ],\n",
       "       ...,\n",
       "       [-127.052222],\n",
       "       [ 169.26595 ],\n",
       "       [ 168.3077  ]])"
      ]
     },
     "execution_count": 181,
     "metadata": {},
     "output_type": "execute_result"
    }
   ],
   "source": [
    "y"
   ]
  },
  {
   "cell_type": "code",
   "execution_count": 183,
   "id": "a842e260-6978-4a8f-af1b-a92dc0a47e85",
   "metadata": {},
   "outputs": [],
   "source": [
    "# Split data into a training set and a test set.\n",
    "\n",
    "X_train, X_test, y_train, y_test = train_test_split(X, y, test_size=0.3, random_state=0)"
   ]
  },
  {
   "cell_type": "markdown",
   "id": "6aa5a745-20a4-46bd-ac74-ba4422ac40a7",
   "metadata": {
    "jp-MarkdownHeadingCollapsed": true
   },
   "source": [
    "# 5.0 Regression analysis"
   ]
  },
  {
   "cell_type": "code",
   "execution_count": 191,
   "id": "02bc3cb8-4b71-4464-bd7a-336546becdf4",
   "metadata": {},
   "outputs": [],
   "source": [
    "# Create a regression object.\n",
    "\n",
    "regression = LinearRegression()  # This is the regression object, which will be fit onto the training set."
   ]
  },
  {
   "cell_type": "code",
   "execution_count": 193,
   "id": "5cbf94fa-3db7-4a2d-bc1a-577be1f0f0ef",
   "metadata": {},
   "outputs": [
    {
     "data": {
      "text/html": [
       "<style>#sk-container-id-1 {\n",
       "  /* Definition of color scheme common for light and dark mode */\n",
       "  --sklearn-color-text: black;\n",
       "  --sklearn-color-line: gray;\n",
       "  /* Definition of color scheme for unfitted estimators */\n",
       "  --sklearn-color-unfitted-level-0: #fff5e6;\n",
       "  --sklearn-color-unfitted-level-1: #f6e4d2;\n",
       "  --sklearn-color-unfitted-level-2: #ffe0b3;\n",
       "  --sklearn-color-unfitted-level-3: chocolate;\n",
       "  /* Definition of color scheme for fitted estimators */\n",
       "  --sklearn-color-fitted-level-0: #f0f8ff;\n",
       "  --sklearn-color-fitted-level-1: #d4ebff;\n",
       "  --sklearn-color-fitted-level-2: #b3dbfd;\n",
       "  --sklearn-color-fitted-level-3: cornflowerblue;\n",
       "\n",
       "  /* Specific color for light theme */\n",
       "  --sklearn-color-text-on-default-background: var(--sg-text-color, var(--theme-code-foreground, var(--jp-content-font-color1, black)));\n",
       "  --sklearn-color-background: var(--sg-background-color, var(--theme-background, var(--jp-layout-color0, white)));\n",
       "  --sklearn-color-border-box: var(--sg-text-color, var(--theme-code-foreground, var(--jp-content-font-color1, black)));\n",
       "  --sklearn-color-icon: #696969;\n",
       "\n",
       "  @media (prefers-color-scheme: dark) {\n",
       "    /* Redefinition of color scheme for dark theme */\n",
       "    --sklearn-color-text-on-default-background: var(--sg-text-color, var(--theme-code-foreground, var(--jp-content-font-color1, white)));\n",
       "    --sklearn-color-background: var(--sg-background-color, var(--theme-background, var(--jp-layout-color0, #111)));\n",
       "    --sklearn-color-border-box: var(--sg-text-color, var(--theme-code-foreground, var(--jp-content-font-color1, white)));\n",
       "    --sklearn-color-icon: #878787;\n",
       "  }\n",
       "}\n",
       "\n",
       "#sk-container-id-1 {\n",
       "  color: var(--sklearn-color-text);\n",
       "}\n",
       "\n",
       "#sk-container-id-1 pre {\n",
       "  padding: 0;\n",
       "}\n",
       "\n",
       "#sk-container-id-1 input.sk-hidden--visually {\n",
       "  border: 0;\n",
       "  clip: rect(1px 1px 1px 1px);\n",
       "  clip: rect(1px, 1px, 1px, 1px);\n",
       "  height: 1px;\n",
       "  margin: -1px;\n",
       "  overflow: hidden;\n",
       "  padding: 0;\n",
       "  position: absolute;\n",
       "  width: 1px;\n",
       "}\n",
       "\n",
       "#sk-container-id-1 div.sk-dashed-wrapped {\n",
       "  border: 1px dashed var(--sklearn-color-line);\n",
       "  margin: 0 0.4em 0.5em 0.4em;\n",
       "  box-sizing: border-box;\n",
       "  padding-bottom: 0.4em;\n",
       "  background-color: var(--sklearn-color-background);\n",
       "}\n",
       "\n",
       "#sk-container-id-1 div.sk-container {\n",
       "  /* jupyter's `normalize.less` sets `[hidden] { display: none; }`\n",
       "     but bootstrap.min.css set `[hidden] { display: none !important; }`\n",
       "     so we also need the `!important` here to be able to override the\n",
       "     default hidden behavior on the sphinx rendered scikit-learn.org.\n",
       "     See: https://github.com/scikit-learn/scikit-learn/issues/21755 */\n",
       "  display: inline-block !important;\n",
       "  position: relative;\n",
       "}\n",
       "\n",
       "#sk-container-id-1 div.sk-text-repr-fallback {\n",
       "  display: none;\n",
       "}\n",
       "\n",
       "div.sk-parallel-item,\n",
       "div.sk-serial,\n",
       "div.sk-item {\n",
       "  /* draw centered vertical line to link estimators */\n",
       "  background-image: linear-gradient(var(--sklearn-color-text-on-default-background), var(--sklearn-color-text-on-default-background));\n",
       "  background-size: 2px 100%;\n",
       "  background-repeat: no-repeat;\n",
       "  background-position: center center;\n",
       "}\n",
       "\n",
       "/* Parallel-specific style estimator block */\n",
       "\n",
       "#sk-container-id-1 div.sk-parallel-item::after {\n",
       "  content: \"\";\n",
       "  width: 100%;\n",
       "  border-bottom: 2px solid var(--sklearn-color-text-on-default-background);\n",
       "  flex-grow: 1;\n",
       "}\n",
       "\n",
       "#sk-container-id-1 div.sk-parallel {\n",
       "  display: flex;\n",
       "  align-items: stretch;\n",
       "  justify-content: center;\n",
       "  background-color: var(--sklearn-color-background);\n",
       "  position: relative;\n",
       "}\n",
       "\n",
       "#sk-container-id-1 div.sk-parallel-item {\n",
       "  display: flex;\n",
       "  flex-direction: column;\n",
       "}\n",
       "\n",
       "#sk-container-id-1 div.sk-parallel-item:first-child::after {\n",
       "  align-self: flex-end;\n",
       "  width: 50%;\n",
       "}\n",
       "\n",
       "#sk-container-id-1 div.sk-parallel-item:last-child::after {\n",
       "  align-self: flex-start;\n",
       "  width: 50%;\n",
       "}\n",
       "\n",
       "#sk-container-id-1 div.sk-parallel-item:only-child::after {\n",
       "  width: 0;\n",
       "}\n",
       "\n",
       "/* Serial-specific style estimator block */\n",
       "\n",
       "#sk-container-id-1 div.sk-serial {\n",
       "  display: flex;\n",
       "  flex-direction: column;\n",
       "  align-items: center;\n",
       "  background-color: var(--sklearn-color-background);\n",
       "  padding-right: 1em;\n",
       "  padding-left: 1em;\n",
       "}\n",
       "\n",
       "\n",
       "/* Toggleable style: style used for estimator/Pipeline/ColumnTransformer box that is\n",
       "clickable and can be expanded/collapsed.\n",
       "- Pipeline and ColumnTransformer use this feature and define the default style\n",
       "- Estimators will overwrite some part of the style using the `sk-estimator` class\n",
       "*/\n",
       "\n",
       "/* Pipeline and ColumnTransformer style (default) */\n",
       "\n",
       "#sk-container-id-1 div.sk-toggleable {\n",
       "  /* Default theme specific background. It is overwritten whether we have a\n",
       "  specific estimator or a Pipeline/ColumnTransformer */\n",
       "  background-color: var(--sklearn-color-background);\n",
       "}\n",
       "\n",
       "/* Toggleable label */\n",
       "#sk-container-id-1 label.sk-toggleable__label {\n",
       "  cursor: pointer;\n",
       "  display: block;\n",
       "  width: 100%;\n",
       "  margin-bottom: 0;\n",
       "  padding: 0.5em;\n",
       "  box-sizing: border-box;\n",
       "  text-align: center;\n",
       "}\n",
       "\n",
       "#sk-container-id-1 label.sk-toggleable__label-arrow:before {\n",
       "  /* Arrow on the left of the label */\n",
       "  content: \"▸\";\n",
       "  float: left;\n",
       "  margin-right: 0.25em;\n",
       "  color: var(--sklearn-color-icon);\n",
       "}\n",
       "\n",
       "#sk-container-id-1 label.sk-toggleable__label-arrow:hover:before {\n",
       "  color: var(--sklearn-color-text);\n",
       "}\n",
       "\n",
       "/* Toggleable content - dropdown */\n",
       "\n",
       "#sk-container-id-1 div.sk-toggleable__content {\n",
       "  max-height: 0;\n",
       "  max-width: 0;\n",
       "  overflow: hidden;\n",
       "  text-align: left;\n",
       "  /* unfitted */\n",
       "  background-color: var(--sklearn-color-unfitted-level-0);\n",
       "}\n",
       "\n",
       "#sk-container-id-1 div.sk-toggleable__content.fitted {\n",
       "  /* fitted */\n",
       "  background-color: var(--sklearn-color-fitted-level-0);\n",
       "}\n",
       "\n",
       "#sk-container-id-1 div.sk-toggleable__content pre {\n",
       "  margin: 0.2em;\n",
       "  border-radius: 0.25em;\n",
       "  color: var(--sklearn-color-text);\n",
       "  /* unfitted */\n",
       "  background-color: var(--sklearn-color-unfitted-level-0);\n",
       "}\n",
       "\n",
       "#sk-container-id-1 div.sk-toggleable__content.fitted pre {\n",
       "  /* unfitted */\n",
       "  background-color: var(--sklearn-color-fitted-level-0);\n",
       "}\n",
       "\n",
       "#sk-container-id-1 input.sk-toggleable__control:checked~div.sk-toggleable__content {\n",
       "  /* Expand drop-down */\n",
       "  max-height: 200px;\n",
       "  max-width: 100%;\n",
       "  overflow: auto;\n",
       "}\n",
       "\n",
       "#sk-container-id-1 input.sk-toggleable__control:checked~label.sk-toggleable__label-arrow:before {\n",
       "  content: \"▾\";\n",
       "}\n",
       "\n",
       "/* Pipeline/ColumnTransformer-specific style */\n",
       "\n",
       "#sk-container-id-1 div.sk-label input.sk-toggleable__control:checked~label.sk-toggleable__label {\n",
       "  color: var(--sklearn-color-text);\n",
       "  background-color: var(--sklearn-color-unfitted-level-2);\n",
       "}\n",
       "\n",
       "#sk-container-id-1 div.sk-label.fitted input.sk-toggleable__control:checked~label.sk-toggleable__label {\n",
       "  background-color: var(--sklearn-color-fitted-level-2);\n",
       "}\n",
       "\n",
       "/* Estimator-specific style */\n",
       "\n",
       "/* Colorize estimator box */\n",
       "#sk-container-id-1 div.sk-estimator input.sk-toggleable__control:checked~label.sk-toggleable__label {\n",
       "  /* unfitted */\n",
       "  background-color: var(--sklearn-color-unfitted-level-2);\n",
       "}\n",
       "\n",
       "#sk-container-id-1 div.sk-estimator.fitted input.sk-toggleable__control:checked~label.sk-toggleable__label {\n",
       "  /* fitted */\n",
       "  background-color: var(--sklearn-color-fitted-level-2);\n",
       "}\n",
       "\n",
       "#sk-container-id-1 div.sk-label label.sk-toggleable__label,\n",
       "#sk-container-id-1 div.sk-label label {\n",
       "  /* The background is the default theme color */\n",
       "  color: var(--sklearn-color-text-on-default-background);\n",
       "}\n",
       "\n",
       "/* On hover, darken the color of the background */\n",
       "#sk-container-id-1 div.sk-label:hover label.sk-toggleable__label {\n",
       "  color: var(--sklearn-color-text);\n",
       "  background-color: var(--sklearn-color-unfitted-level-2);\n",
       "}\n",
       "\n",
       "/* Label box, darken color on hover, fitted */\n",
       "#sk-container-id-1 div.sk-label.fitted:hover label.sk-toggleable__label.fitted {\n",
       "  color: var(--sklearn-color-text);\n",
       "  background-color: var(--sklearn-color-fitted-level-2);\n",
       "}\n",
       "\n",
       "/* Estimator label */\n",
       "\n",
       "#sk-container-id-1 div.sk-label label {\n",
       "  font-family: monospace;\n",
       "  font-weight: bold;\n",
       "  display: inline-block;\n",
       "  line-height: 1.2em;\n",
       "}\n",
       "\n",
       "#sk-container-id-1 div.sk-label-container {\n",
       "  text-align: center;\n",
       "}\n",
       "\n",
       "/* Estimator-specific */\n",
       "#sk-container-id-1 div.sk-estimator {\n",
       "  font-family: monospace;\n",
       "  border: 1px dotted var(--sklearn-color-border-box);\n",
       "  border-radius: 0.25em;\n",
       "  box-sizing: border-box;\n",
       "  margin-bottom: 0.5em;\n",
       "  /* unfitted */\n",
       "  background-color: var(--sklearn-color-unfitted-level-0);\n",
       "}\n",
       "\n",
       "#sk-container-id-1 div.sk-estimator.fitted {\n",
       "  /* fitted */\n",
       "  background-color: var(--sklearn-color-fitted-level-0);\n",
       "}\n",
       "\n",
       "/* on hover */\n",
       "#sk-container-id-1 div.sk-estimator:hover {\n",
       "  /* unfitted */\n",
       "  background-color: var(--sklearn-color-unfitted-level-2);\n",
       "}\n",
       "\n",
       "#sk-container-id-1 div.sk-estimator.fitted:hover {\n",
       "  /* fitted */\n",
       "  background-color: var(--sklearn-color-fitted-level-2);\n",
       "}\n",
       "\n",
       "/* Specification for estimator info (e.g. \"i\" and \"?\") */\n",
       "\n",
       "/* Common style for \"i\" and \"?\" */\n",
       "\n",
       ".sk-estimator-doc-link,\n",
       "a:link.sk-estimator-doc-link,\n",
       "a:visited.sk-estimator-doc-link {\n",
       "  float: right;\n",
       "  font-size: smaller;\n",
       "  line-height: 1em;\n",
       "  font-family: monospace;\n",
       "  background-color: var(--sklearn-color-background);\n",
       "  border-radius: 1em;\n",
       "  height: 1em;\n",
       "  width: 1em;\n",
       "  text-decoration: none !important;\n",
       "  margin-left: 1ex;\n",
       "  /* unfitted */\n",
       "  border: var(--sklearn-color-unfitted-level-1) 1pt solid;\n",
       "  color: var(--sklearn-color-unfitted-level-1);\n",
       "}\n",
       "\n",
       ".sk-estimator-doc-link.fitted,\n",
       "a:link.sk-estimator-doc-link.fitted,\n",
       "a:visited.sk-estimator-doc-link.fitted {\n",
       "  /* fitted */\n",
       "  border: var(--sklearn-color-fitted-level-1) 1pt solid;\n",
       "  color: var(--sklearn-color-fitted-level-1);\n",
       "}\n",
       "\n",
       "/* On hover */\n",
       "div.sk-estimator:hover .sk-estimator-doc-link:hover,\n",
       ".sk-estimator-doc-link:hover,\n",
       "div.sk-label-container:hover .sk-estimator-doc-link:hover,\n",
       ".sk-estimator-doc-link:hover {\n",
       "  /* unfitted */\n",
       "  background-color: var(--sklearn-color-unfitted-level-3);\n",
       "  color: var(--sklearn-color-background);\n",
       "  text-decoration: none;\n",
       "}\n",
       "\n",
       "div.sk-estimator.fitted:hover .sk-estimator-doc-link.fitted:hover,\n",
       ".sk-estimator-doc-link.fitted:hover,\n",
       "div.sk-label-container:hover .sk-estimator-doc-link.fitted:hover,\n",
       ".sk-estimator-doc-link.fitted:hover {\n",
       "  /* fitted */\n",
       "  background-color: var(--sklearn-color-fitted-level-3);\n",
       "  color: var(--sklearn-color-background);\n",
       "  text-decoration: none;\n",
       "}\n",
       "\n",
       "/* Span, style for the box shown on hovering the info icon */\n",
       ".sk-estimator-doc-link span {\n",
       "  display: none;\n",
       "  z-index: 9999;\n",
       "  position: relative;\n",
       "  font-weight: normal;\n",
       "  right: .2ex;\n",
       "  padding: .5ex;\n",
       "  margin: .5ex;\n",
       "  width: min-content;\n",
       "  min-width: 20ex;\n",
       "  max-width: 50ex;\n",
       "  color: var(--sklearn-color-text);\n",
       "  box-shadow: 2pt 2pt 4pt #999;\n",
       "  /* unfitted */\n",
       "  background: var(--sklearn-color-unfitted-level-0);\n",
       "  border: .5pt solid var(--sklearn-color-unfitted-level-3);\n",
       "}\n",
       "\n",
       ".sk-estimator-doc-link.fitted span {\n",
       "  /* fitted */\n",
       "  background: var(--sklearn-color-fitted-level-0);\n",
       "  border: var(--sklearn-color-fitted-level-3);\n",
       "}\n",
       "\n",
       ".sk-estimator-doc-link:hover span {\n",
       "  display: block;\n",
       "}\n",
       "\n",
       "/* \"?\"-specific style due to the `<a>` HTML tag */\n",
       "\n",
       "#sk-container-id-1 a.estimator_doc_link {\n",
       "  float: right;\n",
       "  font-size: 1rem;\n",
       "  line-height: 1em;\n",
       "  font-family: monospace;\n",
       "  background-color: var(--sklearn-color-background);\n",
       "  border-radius: 1rem;\n",
       "  height: 1rem;\n",
       "  width: 1rem;\n",
       "  text-decoration: none;\n",
       "  /* unfitted */\n",
       "  color: var(--sklearn-color-unfitted-level-1);\n",
       "  border: var(--sklearn-color-unfitted-level-1) 1pt solid;\n",
       "}\n",
       "\n",
       "#sk-container-id-1 a.estimator_doc_link.fitted {\n",
       "  /* fitted */\n",
       "  border: var(--sklearn-color-fitted-level-1) 1pt solid;\n",
       "  color: var(--sklearn-color-fitted-level-1);\n",
       "}\n",
       "\n",
       "/* On hover */\n",
       "#sk-container-id-1 a.estimator_doc_link:hover {\n",
       "  /* unfitted */\n",
       "  background-color: var(--sklearn-color-unfitted-level-3);\n",
       "  color: var(--sklearn-color-background);\n",
       "  text-decoration: none;\n",
       "}\n",
       "\n",
       "#sk-container-id-1 a.estimator_doc_link.fitted:hover {\n",
       "  /* fitted */\n",
       "  background-color: var(--sklearn-color-fitted-level-3);\n",
       "}\n",
       "</style><div id=\"sk-container-id-1\" class=\"sk-top-container\"><div class=\"sk-text-repr-fallback\"><pre>LinearRegression()</pre><b>In a Jupyter environment, please rerun this cell to show the HTML representation or trust the notebook. <br />On GitHub, the HTML representation is unable to render, please try loading this page with nbviewer.org.</b></div><div class=\"sk-container\" hidden><div class=\"sk-item\"><div class=\"sk-estimator fitted sk-toggleable\"><input class=\"sk-toggleable__control sk-hidden--visually\" id=\"sk-estimator-id-1\" type=\"checkbox\" checked><label for=\"sk-estimator-id-1\" class=\"sk-toggleable__label fitted sk-toggleable__label-arrow fitted\">&nbsp;&nbsp;LinearRegression<a class=\"sk-estimator-doc-link fitted\" rel=\"noreferrer\" target=\"_blank\" href=\"https://scikit-learn.org/1.5/modules/generated/sklearn.linear_model.LinearRegression.html\">?<span>Documentation for LinearRegression</span></a><span class=\"sk-estimator-doc-link fitted\">i<span>Fitted</span></span></label><div class=\"sk-toggleable__content fitted\"><pre>LinearRegression()</pre></div> </div></div></div></div>"
      ],
      "text/plain": [
       "LinearRegression()"
      ]
     },
     "execution_count": 193,
     "metadata": {},
     "output_type": "execute_result"
    }
   ],
   "source": [
    "# Fit the regression object onto the training set.\n",
    "\n",
    "regression.fit(X_train, y_train)"
   ]
  },
  {
   "cell_type": "code",
   "execution_count": 195,
   "id": "d4598690-326e-4f9d-b109-148e8300603a",
   "metadata": {},
   "outputs": [],
   "source": [
    "# Predict the values of y using X.\n",
    "\n",
    "y_predicted = regression.predict(X_test)"
   ]
  },
  {
   "cell_type": "code",
   "execution_count": 197,
   "id": "ba5e8571-c259-499b-95ff-5cb6630ab625",
   "metadata": {},
   "outputs": [
    {
     "data": {
      "image/png": "[encoded data removed]",
      "text/plain": [
       "<Figure size 640x480 with 1 Axes>"
      ]
     },
     "metadata": {},
     "output_type": "display_data"
    }
   ],
   "source": [
    "# Create a plot that shows the regression line from the model on the test set.\n",
    "\n",
    "plot_test = plt\n",
    "plot_test.scatter(X_test, y_test, color='gray', s = 15)\n",
    "plot_test.plot(X_test, y_predicted, color='red', linewidth =3)\n",
    "plot_test.title('Latitude vs Longitude (Test set)')\n",
    "plot_test.xlabel('Latitude')\n",
    "plot_test.ylabel('Longitude')\n",
    "plot_test.show()"
   ]
  },
  {
   "cell_type": "markdown",
   "id": "cf3d5858-3b63-44c4-82b2-07735d900a30",
   "metadata": {},
   "source": [
    "**Observation:** The model doesn't fit the data very well, as it only passes through a few points. Looking at the data, it's unlikely to have a linear relationship and perhaps a different model would be necessary."
   ]
  },
  {
   "cell_type": "code",
   "execution_count": 200,
   "id": "28dc4513-fc66-463b-bc11-9f581366672b",
   "metadata": {},
   "outputs": [],
   "source": [
    "# Create objects that contain the model summary statistics.\n",
    "\n",
    "rmse = mean_squared_error(y_test, y_predicted) # This is the mean squared error\n",
    "r2 = r2_score(y_test, y_predicted) # This is the R2 score. "
   ]
  },
  {
   "cell_type": "code",
   "execution_count": 202,
   "id": "4b4166ae-1ce1-4b28-b586-356fa20fa255",
   "metadata": {},
   "outputs": [
    {
     "name": "stdout",
     "output_type": "stream",
     "text": [
      "Slope: [[1.52862464]]\n",
      "Mean squared error:  11719.499557550267\n",
      "R2 score:  0.1146400151741731\n"
     ]
    }
   ],
   "source": [
    "# Print the model summary statistics. This is where you evaluate the performance of the model.\n",
    "\n",
    "print('Slope:' ,regression.coef_)\n",
    "print('Mean squared error: ', rmse)\n",
    "print('R2 score: ', r2)"
   ]
  },
  {
   "cell_type": "markdown",
   "id": "b93d7f34-92d1-4c94-81c9-a23c82aa2f49",
   "metadata": {},
   "source": [
    "**Interpretation of model performance:**\n",
    "\n",
    "_Slope:_ 1.52862464\n",
    "- It looks like we have a positive relationship between the two variables.\n",
    "_Mean squared error:_  11719.499557550267\n",
    "- This is a very large Mean squared error, which suggests the regression line isn't a very accurate representation of the data.\n",
    "_R2 score:_  0.1146400151741731\n",
    "- This value is quite close to 1, meaning it is a poor fit."
   ]
  },
  {
   "cell_type": "code",
   "execution_count": 205,
   "id": "78ed85df-4230-4914-9551-62b1ba6ff270",
   "metadata": {},
   "outputs": [
    {
     "data": {
      "text/html": [
       "<div>\n",
       "<style scoped>\n",
       "    .dataframe tbody tr th:only-of-type {\n",
       "        vertical-align: middle;\n",
       "    }\n",
       "\n",
       "    .dataframe tbody tr th {\n",
       "        vertical-align: top;\n",
       "    }\n",
       "\n",
       "    .dataframe thead th {\n",
       "        text-align: right;\n",
       "    }\n",
       "</style>\n",
       "<table border=\"1\" class=\"dataframe\">\n",
       "  <thead>\n",
       "    <tr style=\"text-align: right;\">\n",
       "      <th></th>\n",
       "      <th>Actual</th>\n",
       "      <th>Predicted</th>\n",
       "    </tr>\n",
       "  </thead>\n",
       "  <tbody>\n",
       "    <tr>\n",
       "      <th>0</th>\n",
       "      <td>-95.196800</td>\n",
       "      <td>57.659120</td>\n",
       "    </tr>\n",
       "    <tr>\n",
       "      <th>1</th>\n",
       "      <td>137.262194</td>\n",
       "      <td>90.004800</td>\n",
       "    </tr>\n",
       "    <tr>\n",
       "      <th>2</th>\n",
       "      <td>141.634272</td>\n",
       "      <td>92.455539</td>\n",
       "    </tr>\n",
       "    <tr>\n",
       "      <th>3</th>\n",
       "      <td>-170.833580</td>\n",
       "      <td>11.059212</td>\n",
       "    </tr>\n",
       "    <tr>\n",
       "      <th>4</th>\n",
       "      <td>108.880500</td>\n",
       "      <td>21.111111</td>\n",
       "    </tr>\n",
       "    <tr>\n",
       "      <th>5</th>\n",
       "      <td>141.267500</td>\n",
       "      <td>91.674355</td>\n",
       "    </tr>\n",
       "    <tr>\n",
       "      <th>6</th>\n",
       "      <td>142.022597</td>\n",
       "      <td>93.532776</td>\n",
       "    </tr>\n",
       "    <tr>\n",
       "      <th>7</th>\n",
       "      <td>139.430000</td>\n",
       "      <td>97.283516</td>\n",
       "    </tr>\n",
       "    <tr>\n",
       "      <th>8</th>\n",
       "      <td>79.913060</td>\n",
       "      <td>43.169695</td>\n",
       "    </tr>\n",
       "    <tr>\n",
       "      <th>9</th>\n",
       "      <td>77.248389</td>\n",
       "      <td>45.436220</td>\n",
       "    </tr>\n",
       "    <tr>\n",
       "      <th>10</th>\n",
       "      <td>141.860800</td>\n",
       "      <td>94.168311</td>\n",
       "    </tr>\n",
       "    <tr>\n",
       "      <th>11</th>\n",
       "      <td>73.549800</td>\n",
       "      <td>35.883143</td>\n",
       "    </tr>\n",
       "    <tr>\n",
       "      <th>12</th>\n",
       "      <td>-151.680000</td>\n",
       "      <td>123.851013</td>\n",
       "    </tr>\n",
       "    <tr>\n",
       "      <th>13</th>\n",
       "      <td>-73.496300</td>\n",
       "      <td>-25.666668</td>\n",
       "    </tr>\n",
       "    <tr>\n",
       "      <th>14</th>\n",
       "      <td>-162.090000</td>\n",
       "      <td>41.947304</td>\n",
       "    </tr>\n",
       "    <tr>\n",
       "      <th>15</th>\n",
       "      <td>141.896361</td>\n",
       "      <td>93.078822</td>\n",
       "    </tr>\n",
       "    <tr>\n",
       "      <th>16</th>\n",
       "      <td>119.872046</td>\n",
       "      <td>31.602550</td>\n",
       "    </tr>\n",
       "    <tr>\n",
       "      <th>17</th>\n",
       "      <td>136.874681</td>\n",
       "      <td>85.569271</td>\n",
       "    </tr>\n",
       "    <tr>\n",
       "      <th>18</th>\n",
       "      <td>136.200000</td>\n",
       "      <td>85.043819</td>\n",
       "    </tr>\n",
       "    <tr>\n",
       "      <th>19</th>\n",
       "      <td>114.990000</td>\n",
       "      <td>19.919823</td>\n",
       "    </tr>\n",
       "    <tr>\n",
       "      <th>20</th>\n",
       "      <td>-71.329759</td>\n",
       "      <td>-12.859157</td>\n",
       "    </tr>\n",
       "    <tr>\n",
       "      <th>21</th>\n",
       "      <td>140.997000</td>\n",
       "      <td>91.427016</td>\n",
       "    </tr>\n",
       "    <tr>\n",
       "      <th>22</th>\n",
       "      <td>141.633889</td>\n",
       "      <td>92.496416</td>\n",
       "    </tr>\n",
       "    <tr>\n",
       "      <th>23</th>\n",
       "      <td>26.373000</td>\n",
       "      <td>91.434234</td>\n",
       "    </tr>\n",
       "    <tr>\n",
       "      <th>24</th>\n",
       "      <td>108.882740</td>\n",
       "      <td>21.104400</td>\n",
       "    </tr>\n",
       "    <tr>\n",
       "      <th>25</th>\n",
       "      <td>77.309667</td>\n",
       "      <td>45.379024</td>\n",
       "    </tr>\n",
       "    <tr>\n",
       "      <th>26</th>\n",
       "      <td>-155.829000</td>\n",
       "      <td>63.572146</td>\n",
       "    </tr>\n",
       "    <tr>\n",
       "      <th>27</th>\n",
       "      <td>-123.372000</td>\n",
       "      <td>106.967353</td>\n",
       "    </tr>\n",
       "    <tr>\n",
       "      <th>28</th>\n",
       "      <td>141.574583</td>\n",
       "      <td>92.359265</td>\n",
       "    </tr>\n",
       "    <tr>\n",
       "      <th>29</th>\n",
       "      <td>167.188600</td>\n",
       "      <td>9.226177</td>\n",
       "    </tr>\n",
       "  </tbody>\n",
       "</table>\n",
       "</div>"
      ],
      "text/plain": [
       "        Actual   Predicted\n",
       "0   -95.196800   57.659120\n",
       "1   137.262194   90.004800\n",
       "2   141.634272   92.455539\n",
       "3  -170.833580   11.059212\n",
       "4   108.880500   21.111111\n",
       "5   141.267500   91.674355\n",
       "6   142.022597   93.532776\n",
       "7   139.430000   97.283516\n",
       "8    79.913060   43.169695\n",
       "9    77.248389   45.436220\n",
       "10  141.860800   94.168311\n",
       "11   73.549800   35.883143\n",
       "12 -151.680000  123.851013\n",
       "13  -73.496300  -25.666668\n",
       "14 -162.090000   41.947304\n",
       "15  141.896361   93.078822\n",
       "16  119.872046   31.602550\n",
       "17  136.874681   85.569271\n",
       "18  136.200000   85.043819\n",
       "19  114.990000   19.919823\n",
       "20  -71.329759  -12.859157\n",
       "21  140.997000   91.427016\n",
       "22  141.633889   92.496416\n",
       "23   26.373000   91.434234\n",
       "24  108.882740   21.104400\n",
       "25   77.309667   45.379024\n",
       "26 -155.829000   63.572146\n",
       "27 -123.372000  106.967353\n",
       "28  141.574583   92.359265\n",
       "29  167.188600    9.226177"
      ]
     },
     "execution_count": 205,
     "metadata": {},
     "output_type": "execute_result"
    }
   ],
   "source": [
    "# Create a dataframe comparing the actual and predicted values of y.\n",
    "\n",
    "data = pd.DataFrame({'Actual': y_test.flatten(), 'Predicted': y_predicted.flatten()})\n",
    "data.head(30)"
   ]
  },
  {
   "cell_type": "markdown",
   "id": "c112165b-e022-4b4c-a6ab-d6e8dba86c14",
   "metadata": {},
   "source": [
    "**Thoughts on performance of model:**\n",
    "When you look a the actual data vs. the predicted values, its quite obvious to see that the model is a bad fit for the data!\n",
    "The data could include bias in the form of missing data from smaller islands with low populations and a lack of expertise or equipment to record runup data during a tsunami. This could mean we are missing latitude/longitude readings from locations where there has been a runup.\n",
    "\n",
    "**Note:** There are few _true_ contiuous variables in the set (as earthquake_magnitude and max_water_height_m tend to behave more like discrete values) so I was limited in choice as to what to use in this regression analysis. This is something I should have picked up on at the dataset selection phase, so I'll keep this in mind when planning further portfolio projects in the future!"
   ]
  }
 ],
 "metadata": {
  "kernelspec": {
   "display_name": "Python [conda env:base] *",
   "language": "python",
   "name": "conda-base-py"
  },
  "language_info": {
   "codemirror_mode": {
    "name": "ipython",
    "version": 3
   },
   "file_extension": ".py",
   "mimetype": "text/x-python",
   "name": "python",
   "nbconvert_exporter": "python",
   "pygments_lexer": "ipython3",
   "version": "3.12.2"
  }
 },
 "nbformat": 4,
 "nbformat_minor": 5
}
